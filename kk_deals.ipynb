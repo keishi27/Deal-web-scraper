{
 "metadata": {
  "language_info": {
   "codemirror_mode": {
    "name": "ipython",
    "version": 3
   },
   "file_extension": ".py",
   "mimetype": "text/x-python",
   "name": "python",
   "nbconvert_exporter": "python",
   "pygments_lexer": "ipython3",
   "version": "3.8.3-final"
  },
  "orig_nbformat": 2,
  "kernelspec": {
   "name": "Python 3.8.3 64-bit ('base': conda)",
   "display_name": "Python 3.8.3 64-bit ('base': conda)",
   "metadata": {
    "interpreter": {
     "hash": "b3ba2566441a7c06988d0923437866b63cedc61552a5af99d1f4fb67d367b25f"
    }
   }
  }
 },
 "nbformat": 4,
 "nbformat_minor": 2,
 "cells": [
  {
   "source": [
    "# Web scraping to find best deals at the best time\n",
    "- Uses Selenium to scrape popular deals website"
   ],
   "cell_type": "markdown",
   "metadata": {}
  },
  {
   "source": [
    "To do:\n",
    "- Fix time column"
   ],
   "cell_type": "markdown",
   "metadata": {}
  },
  {
   "cell_type": "code",
   "execution_count": 255,
   "metadata": {},
   "outputs": [],
   "source": [
    "import os  \n",
    "from selenium import webdriver  \n",
    "from selenium.webdriver.chrome.options import Options  \n",
    "from selenium.webdriver.common.keys import Keys\n",
    "import pandas as pd\n",
    "import datetime as dt\n",
    "import numpy as np\n",
    "import datefinder\n",
    "import dateparser\n",
    "import seaborn as sns"
   ]
  },
  {
   "cell_type": "code",
   "execution_count": 155,
   "metadata": {},
   "outputs": [],
   "source": [
    "# Set headless browser\n",
    "options = Options()\n",
    "options.headless = True"
   ]
  },
  {
   "cell_type": "code",
   "execution_count": 230,
   "metadata": {},
   "outputs": [],
   "source": [
    "def clean_date(date_entry):\n",
    "    temp = date_entry.split()\n",
    "    if temp[-1]=='ago':\n",
    "        # return dt.datetime.today().strftime(\"%d/%m/%Y\")\n",
    "        return pd.to_datetime('today')\n",
    "    else:\n",
    "        return date_entry\n",
    "\n",
    "def clean_company(company_entry):\n",
    "    # reverse split to split by last space symbol\n",
    "    return company_entry.rsplit(' ', 1)[0]\n",
    "\n",
    "\n",
    "def clean_price(price_entry):\n",
    "    temp = price_entry[1:]\n",
    "    temp = temp.replace(',', '')\n",
    "    try:\n",
    "        return round(float(temp))\n",
    "    except ValueError:\n",
    "        return np.nan\n",
    "\n",
    "\n",
    "def clean_heat(heat_entry):\n",
    "    temp = heat_entry[:-1]\n",
    "    try:\n",
    "        return int(temp)\n",
    "    except ValueError:\n",
    "        return np.nan"
   ]
  },
  {
   "cell_type": "code",
   "execution_count": 250,
   "metadata": {},
   "outputs": [],
   "source": [
    "df = pd.DataFrame(columns=['Item', 'Price', 'Company', 'Heat', 'Date'])\n",
    "\n",
    "for page_no in range(1,11):\n",
    "    driver = webdriver.Chrome('chromedriver.exe', chrome_options=options)\n",
    "    driver.get('https://www.hotukdeals.com/tag/electronics?page='+str(page_no))\n",
    "    item_data = driver.find_elements_by_class_name('threadGrid-title')  # get title, price, company\n",
    "    forum_data = results = driver.find_elements_by_class_name('threadGrid-headerMeta')  # get heat, date\n",
    "\n",
    "    df_item = pd.DataFrame(columns=['Item', 'Price', 'Company'])\n",
    "    for i in range(len(item_data)):\n",
    "        temp = item_data[i].text.split('\\n')\n",
    "        df_item.loc[i] = [temp[0], temp[1], temp[-1]]\n",
    "\n",
    "    df_forum = pd.DataFrame(columns=['Heat', 'Date'])\n",
    "    for i in range(len(forum_data)):\n",
    "        temp = forum_data[i].text.split('\\n')\n",
    "        df_forum.loc[i] = [temp[0], temp[-1]]\n",
    "\n",
    "    df_temp = pd.concat([df_item, df_forum], axis=1)\n",
    "    df = pd.concat([df, df_temp], axis=0)\n",
    "\n",
    "# Clean price\n",
    "df['Price'] = df['Price'].map(lambda x: clean_price(x))\n",
    "# Clean company\n",
    "df['Company'] = df['Company'].map(lambda x: clean_company(x))\n",
    "# Clean date\n",
    "df['Date'] = df['Date'].map(lambda x: clean_date(x))\n",
    "# Clean heat\n",
    "df['Heat'] = df['Heat'].map(lambda x: clean_heat(x))\n",
    "# Drop NAN\n",
    "df = df.dropna()\n",
    "df = df.reset_index(drop=True)"
   ]
  },
  {
   "cell_type": "code",
   "execution_count": 259,
   "metadata": {},
   "outputs": [
    {
     "output_type": "execute_result",
     "data": {
      "text/plain": [
       "                                                  Item   Price  \\\n",
       "0    Mpow 35Hrs Noise Cancelling Headphones £19.99 ...    20.0   \n",
       "1    Kingston A2000 (SA2000M8/1000G) SSD NVMe PCIe ...    88.0   \n",
       "2    Boltune BT-BH024 Bluetooth 5.0 earphones with ...    24.0   \n",
       "3    MSI X470 GAMING PLUS MAX Motherboard ATX, AM4,...    75.0   \n",
       "4    Sony A7R IV Mirrorless Camera Body £2999 at Ca...  2999.0   \n",
       "..                                                 ...     ...   \n",
       "190  TP-Link Deco E4 (3-Pack) Dual Band AC1200 Mesh...    89.0   \n",
       "191  SanDisk Cruzer FIT USB Flash Drive 32GB/64GB f...     5.0   \n",
       "192  LG 55 Inch 55OLED55BX Smart 4K Ultra HD OLED T...  1099.0   \n",
       "193  Grade A Refurbished OnePlus NORD - 128GB Unloc...   297.0   \n",
       "194  Grade A+ Samsung Galaxy S10 5G 256GB Majestic ...   360.0   \n",
       "\n",
       "            Company   Heat                        Date  \n",
       "0            Amazon  131.0  2020-10-12 11:53:49.690404  \n",
       "1    Amazon Germany  151.0  2020-10-12 11:53:49.691401  \n",
       "2            Amazon  135.0  2020-10-12 11:53:49.691401  \n",
       "3            Amazon  317.0  2020-10-12 11:53:49.691401  \n",
       "4       CameraWorld  132.0  2020-10-12 11:53:49.691401  \n",
       "..              ...    ...                         ...  \n",
       "190            eBay  303.0            Made hot 8th Oct  \n",
       "191         PicStop  351.0            Made hot 8th Oct  \n",
       "192           Argos  499.0            Made hot 8th Oct  \n",
       "193            eBay  178.0            Made hot 8th Oct  \n",
       "194            eBay  372.0            Made hot 8th Oct  \n",
       "\n",
       "[195 rows x 5 columns]"
      ],
      "text/html": "<div>\n<style scoped>\n    .dataframe tbody tr th:only-of-type {\n        vertical-align: middle;\n    }\n\n    .dataframe tbody tr th {\n        vertical-align: top;\n    }\n\n    .dataframe thead th {\n        text-align: right;\n    }\n</style>\n<table border=\"1\" class=\"dataframe\">\n  <thead>\n    <tr style=\"text-align: right;\">\n      <th></th>\n      <th>Item</th>\n      <th>Price</th>\n      <th>Company</th>\n      <th>Heat</th>\n      <th>Date</th>\n    </tr>\n  </thead>\n  <tbody>\n    <tr>\n      <th>0</th>\n      <td>Mpow 35Hrs Noise Cancelling Headphones £19.99 ...</td>\n      <td>20.0</td>\n      <td>Amazon</td>\n      <td>131.0</td>\n      <td>2020-10-12 11:53:49.690404</td>\n    </tr>\n    <tr>\n      <th>1</th>\n      <td>Kingston A2000 (SA2000M8/1000G) SSD NVMe PCIe ...</td>\n      <td>88.0</td>\n      <td>Amazon Germany</td>\n      <td>151.0</td>\n      <td>2020-10-12 11:53:49.691401</td>\n    </tr>\n    <tr>\n      <th>2</th>\n      <td>Boltune BT-BH024 Bluetooth 5.0 earphones with ...</td>\n      <td>24.0</td>\n      <td>Amazon</td>\n      <td>135.0</td>\n      <td>2020-10-12 11:53:49.691401</td>\n    </tr>\n    <tr>\n      <th>3</th>\n      <td>MSI X470 GAMING PLUS MAX Motherboard ATX, AM4,...</td>\n      <td>75.0</td>\n      <td>Amazon</td>\n      <td>317.0</td>\n      <td>2020-10-12 11:53:49.691401</td>\n    </tr>\n    <tr>\n      <th>4</th>\n      <td>Sony A7R IV Mirrorless Camera Body £2999 at Ca...</td>\n      <td>2999.0</td>\n      <td>CameraWorld</td>\n      <td>132.0</td>\n      <td>2020-10-12 11:53:49.691401</td>\n    </tr>\n    <tr>\n      <th>...</th>\n      <td>...</td>\n      <td>...</td>\n      <td>...</td>\n      <td>...</td>\n      <td>...</td>\n    </tr>\n    <tr>\n      <th>190</th>\n      <td>TP-Link Deco E4 (3-Pack) Dual Band AC1200 Mesh...</td>\n      <td>89.0</td>\n      <td>eBay</td>\n      <td>303.0</td>\n      <td>Made hot 8th Oct</td>\n    </tr>\n    <tr>\n      <th>191</th>\n      <td>SanDisk Cruzer FIT USB Flash Drive 32GB/64GB f...</td>\n      <td>5.0</td>\n      <td>PicStop</td>\n      <td>351.0</td>\n      <td>Made hot 8th Oct</td>\n    </tr>\n    <tr>\n      <th>192</th>\n      <td>LG 55 Inch 55OLED55BX Smart 4K Ultra HD OLED T...</td>\n      <td>1099.0</td>\n      <td>Argos</td>\n      <td>499.0</td>\n      <td>Made hot 8th Oct</td>\n    </tr>\n    <tr>\n      <th>193</th>\n      <td>Grade A Refurbished OnePlus NORD - 128GB Unloc...</td>\n      <td>297.0</td>\n      <td>eBay</td>\n      <td>178.0</td>\n      <td>Made hot 8th Oct</td>\n    </tr>\n    <tr>\n      <th>194</th>\n      <td>Grade A+ Samsung Galaxy S10 5G 256GB Majestic ...</td>\n      <td>360.0</td>\n      <td>eBay</td>\n      <td>372.0</td>\n      <td>Made hot 8th Oct</td>\n    </tr>\n  </tbody>\n</table>\n<p>195 rows × 5 columns</p>\n</div>"
     },
     "metadata": {},
     "execution_count": 259
    }
   ],
   "source": [
    "df"
   ]
  },
  {
   "cell_type": "code",
   "execution_count": null,
   "metadata": {},
   "outputs": [],
   "source": []
  },
  {
   "cell_type": "code",
   "execution_count": null,
   "metadata": {},
   "outputs": [],
   "source": []
  }
 ]
}