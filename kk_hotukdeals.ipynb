{
 "metadata": {
  "language_info": {
   "codemirror_mode": {
    "name": "ipython",
    "version": 3
   },
   "file_extension": ".py",
   "mimetype": "text/x-python",
   "name": "python",
   "nbconvert_exporter": "python",
   "pygments_lexer": "ipython3",
   "version": "3.8.3-final"
  },
  "orig_nbformat": 2,
  "kernelspec": {
   "name": "Python 3.8.3 64-bit ('base': conda)",
   "display_name": "Python 3.8.3 64-bit ('base': conda)",
   "metadata": {
    "interpreter": {
     "hash": "b3ba2566441a7c06988d0923437866b63cedc61552a5af99d1f4fb67d367b25f"
    }
   }
  }
 },
 "nbformat": 4,
 "nbformat_minor": 2,
 "cells": [
  {
   "source": [
    "# Web Scraping hotukdeals.com\n",
    "\n",
    "## TO DO\n",
    "- Only 6 results returned from each page. About 10 more results exist but they aren't being scraped"
   ],
   "cell_type": "markdown",
   "metadata": {}
  },
  {
   "cell_type": "code",
   "execution_count": 1,
   "metadata": {},
   "outputs": [],
   "source": [
    "import requests\n",
    "import json\n",
    "from bs4 import BeautifulSoup"
   ]
  },
  {
   "cell_type": "code",
   "execution_count": 2,
   "metadata": {
    "tags": []
   },
   "outputs": [
    {
     "output_type": "stream",
     "name": "stdout",
     "text": [
      "HITMAN 2 GOLD EDITION PC £8.99 at CDKeys\n",
      "120°\n",
      "£8.99\n",
      "CDKeys\n",
      "\n",
      "Badedas bath gelee 750ml £6.63 Prime / £11.12 Non-prime @ Amazon\n",
      "114°\n",
      "£6.63\n",
      "Amazon\n",
      "\n",
      "Spider-Man on PlayStation 4, £15.99 at Simply Games\n",
      "147°\n",
      "£15.99\n",
      "Simply Games\n",
      "\n",
      "PHILIPS 58\" Smart 4K HDR Ambilight LED TV & Sound Bar Bundle - £499 @ Currys PC World\n",
      "189°\n",
      "£499\n",
      "Currys PC World\n",
      "\n",
      "Julia Boyd - Travellers in the Third Reich: The Rise of Fascism Through the Eyes of Everyday People (Kindle e-book) - 99p @ Amazon\n",
      "144°\n",
      "£0.99\n",
      "Amazon\n",
      "\n",
      "Dishonored & Prey: The Arkane Collection (PS4 / XBox One) £21.85 Delivered (Preorder) @ Simply Games\n",
      "229°\n",
      "£21.85\n",
      "Simply Games\n",
      "\n",
      "Dettol laundry cleanser 1.5litr £2.48 @ Tesco (Batley)\n",
      "189°\n",
      "£2.48\n",
      "Tesco\n",
      "\n",
      "Thermos food and drinks flask 400ml with spoon - 4 Colours £5 @ Tesco's Gateshead\n",
      "201°\n",
      "£5\n",
      "Tesco\n",
      "\n",
      "GIVENCHY Gentlemen Only Absolute 50ml Eau de Parfum £29.50 (£25.08 Sign up to 15% off Brand for Life) @ Feel Unique\n",
      "158°\n",
      "£29.50\n",
      "Feel Unique\n",
      "\n",
      "HyperX Impact DDR4 8GB 2666 MHz CL15 SODIMM Laptop Memory, £29.68 at Amazon\n",
      "152°\n",
      "£29.68\n",
      "Amazon\n",
      "\n",
      "3 Tier Airer , Now £8 + Free Click & Collect @ Asda George\n",
      "170°\n",
      "£8\n",
      "George (Asda George)\n",
      "\n",
      "Chivas Regal Scotch Whisky Blending Kit £16 @ Amazon (+£4.49 non-prime)\n",
      "164°\n",
      "£16\n",
      "Amazon\n",
      "\n",
      "Masterplug Four Socket Power Surge Protected Extension Lead with Individual Switches, 2 Metres £9.99 @ Amazon (+£4.49 non-prime)\n",
      "263°\n",
      "£9.99\n",
      "Amazon\n",
      "\n",
      "Dyson V8 Animal Cordless Vacuum Cleaner - Refurbished - 1 Year Guarantee £219.99 @ Dyson / eBay\n",
      "179°\n",
      "£219.99\n",
      "eBay\n",
      "\n",
      "Tesco Towel Clearance All Under £2.80 @ Tesco Perth (Edinburgh Rd)\n",
      "176°\n",
      "£2.80\n",
      "Tesco\n",
      "\n",
      "The Stanley Kubrick Limited Edition Film Collection 4K + Blu-Rays Digipack Limited Edition £54.70 Delivered @ Amazon Italy.\n",
      "221°\n",
      "£54.70\n",
      "Amazon Italy\n",
      "\n",
      "The Day of the Triffids 1st Edition 99p Kindle @ Amazon\n",
      "176°\n",
      "£0.99\n",
      "Amazon\n",
      "\n",
      "Acoustic Solutions Wireless Bluetooth Speaker with Alexa - Grey - £29.99 @ Argos / Ebay\n",
      "160°\n",
      "£29.99\n",
      "eBay\n",
      "\n"
     ]
    }
   ],
   "source": [
    "for page_no in range(1,4):\n",
    "    URL = 'https://www.hotukdeals.com/deals?page='+str(page_no)\n",
    "    if page_no == 1:\n",
    "        URL = 'https://www.hotukdeals.com/deals'\n",
    "    page = requests.get(URL)\n",
    "    soup = BeautifulSoup(page.content, 'html.parser')\n",
    "    results = soup.find('div', class_='cept-event-deals js-threadList listLayout-main')\n",
    "    elems = results.find_all('article', class_=\"thread cept-thread-item thread--type-list thread--deal\")\n",
    "\n",
    "    for elem in elems:\n",
    "        title_elem = elem.find('a', class_='cept-tt thread-link linkPlain thread-title--list')\n",
    "        temp_elem = elem.find('span', class_='cept-vote-temp vote-temp vote-temp--hot')\n",
    "        price_elem = elem.find('span', class_='thread-price text--b cept-tp size--all-l size--fromW3-xl')\n",
    "        merchant_elem = elem.find('span', class_='cept-merchant-name text--b text--color-brandPrimary link')\n",
    "        \n",
    "        if None in (title_elem, temp_elem, price_elem, merchant_elem):\n",
    "            continue\n",
    "        print(title_elem.text.strip())\n",
    "        print(temp_elem.text.strip())\n",
    "        print(price_elem.text.strip())\n",
    "        print(merchant_elem.text.strip())\n",
    "        print()"
   ]
  },
  {
   "cell_type": "code",
   "execution_count": null,
   "metadata": {},
   "outputs": [],
   "source": []
  }
 ]
}